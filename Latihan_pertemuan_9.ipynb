{
  "nbformat": 4,
  "nbformat_minor": 0,
  "metadata": {
    "colab": {
      "provenance": []
    },
    "kernelspec": {
      "name": "python3",
      "display_name": "Python 3"
    },
    "language_info": {
      "name": "python"
    }
  },
  "cells": [
    {
      "cell_type": "markdown",
      "source": [
        "Diberikan list berikut:\n",
        "buah = ['apel', 'mangga', 'jeruk', 'anggur', 'pisang']\n",
        "a. Tambahkan 'semangka' di akhir list\n",
        "b. Sisipkan 'durian' di antara 'jeruk' dan 'anggur'\n",
        "c. Hapus 'mangga' dari list\n",
        "d. Ubah 'pisang' menjadi 'nanas'\n",
        "e. Tampilkan 3 buah pertama"
      ],
      "metadata": {
        "id": "ikVIUJ-WJGdt"
      }
    },
    {
      "cell_type": "code",
      "execution_count": 31,
      "metadata": {
        "colab": {
          "base_uri": "https://localhost:8080/"
        },
        "id": "Vgz66ZgqIlZ-",
        "outputId": "36918432-d4f7-459b-fa13-69cfa7d2dc3f"
      },
      "outputs": [
        {
          "output_type": "stream",
          "name": "stdout",
          "text": [
            "['apel', 'mangga', 'jeruk', 'anggur', 'pisang']\n",
            "\n",
            "ditambahkan semangka diakhir list: ['apel', 'mangga', 'jeruk', 'anggur', 'pisang', 'semangka']\n",
            "\n",
            "disisipkan durian di antara jeruk dan anggur: ['apel', 'mangga', 'jeruk', 'durian', 'anggur', 'pisang', 'semangka']\n",
            "\n",
            "mangga dihapus dari list: ['apel', 'jeruk', 'durian', 'anggur', 'pisang', 'semangka']\n",
            "\n",
            "pisang menjadi nanas: ['apel', 'jeruk', 'durian', 'anggur', 'nanas', 'semangka']\n",
            "\n",
            "3 buah pertama: ['apel', 'jeruk', 'durian']\n"
          ]
        }
      ],
      "source": [
        "data = ['apel', 'mangga', 'jeruk', 'anggur', 'pisang']\n",
        "print(f'{data}\\n')\n",
        "\n",
        "data.append('semangka') # A. Tambahkan semangka di akhir list\n",
        "print(f'ditambahkan semangka diakhir list: {data}\\n')\n",
        "\n",
        "data.insert(3,'durian') # B. Sisipkan durian di antara jeruk dan anggur\n",
        "print(f'disisipkan durian di antara jeruk dan anggur: {data}\\n')\n",
        "\n",
        "data.remove('mangga') # C. Hapus mangga dari list\n",
        "print(f'mangga dihapus dari list: {data}\\n')\n",
        "\n",
        "data[4] = 'nanas' # D. Ubah pisang menjadi nanas\n",
        "print(f'pisang menjadi nanas: {data}\\n')\n",
        "\n",
        "buah = data[:3] # E. Tampilkan 3 buah pertama\n",
        "print(f'3 buah pertama: {buah}')"
      ]
    },
    {
      "cell_type": "markdown",
      "source": [
        "Diberikan list berikut:\n",
        "angka = [45, 12, 78, 23, 56, 89, 34]\n",
        "a. Urutkan list secara ascending\n",
        "b. Urutkan list secara descending"
      ],
      "metadata": {
        "id": "zj2hAfHNPTyT"
      }
    },
    {
      "cell_type": "code",
      "source": [
        "angka = [45, 12, 78, 23, 56, 89, 34]\n",
        "\n",
        "angka.sort()  # ascending = dari kecil-besar\n",
        "print(f'ascending = {angka}\\n')\n",
        "\n",
        "angka.reverse() # descending = dari besar-kecil\n",
        "print(f'descending = {angka}')"
      ],
      "metadata": {
        "colab": {
          "base_uri": "https://localhost:8080/"
        },
        "id": "5dN9j0LTPZPb",
        "outputId": "64c0e41a-1ff6-4cd9-cd56-ee083460fd95"
      },
      "execution_count": 32,
      "outputs": [
        {
          "output_type": "stream",
          "name": "stdout",
          "text": [
            "ascending = [12, 23, 34, 45, 56, 78, 89]\n",
            "\n",
            "descending = [89, 78, 56, 45, 34, 23, 12]\n"
          ]
        }
      ]
    }
  ]
}